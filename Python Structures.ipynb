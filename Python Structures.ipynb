{
 "cells": [
  {
   "cell_type": "markdown",
   "id": "17ac225b",
   "metadata": {},
   "source": [
    "# Tuples"
   ]
  },
  {
   "cell_type": "code",
   "execution_count": 1,
   "id": "d25489aa",
   "metadata": {},
   "outputs": [
    {
     "data": {
      "text/plain": [
       "tuple"
      ]
     },
     "execution_count": 1,
     "metadata": {},
     "output_type": "execute_result"
    }
   ],
   "source": [
    "t = (1, 2.5, 'data')\n",
    "type(t)"
   ]
  },
  {
   "cell_type": "code",
   "execution_count": 2,
   "id": "80bc9c53",
   "metadata": {},
   "outputs": [
    {
     "data": {
      "text/plain": [
       "tuple"
      ]
     },
     "execution_count": 2,
     "metadata": {},
     "output_type": "execute_result"
    }
   ],
   "source": [
    "t = 1, 2.5, 'data'\n",
    "type(t)"
   ]
  },
  {
   "cell_type": "code",
   "execution_count": 3,
   "id": "201c5066",
   "metadata": {},
   "outputs": [
    {
     "data": {
      "text/plain": [
       "'data'"
      ]
     },
     "execution_count": 3,
     "metadata": {},
     "output_type": "execute_result"
    }
   ],
   "source": [
    "t[2]"
   ]
  },
  {
   "cell_type": "code",
   "execution_count": 4,
   "id": "c2d94345",
   "metadata": {},
   "outputs": [
    {
     "data": {
      "text/plain": [
       "str"
      ]
     },
     "execution_count": 4,
     "metadata": {},
     "output_type": "execute_result"
    }
   ],
   "source": [
    "type(t[2])"
   ]
  },
  {
   "cell_type": "code",
   "execution_count": 5,
   "id": "3bbafa5e",
   "metadata": {},
   "outputs": [
    {
     "data": {
      "text/plain": [
       "1"
      ]
     },
     "execution_count": 5,
     "metadata": {},
     "output_type": "execute_result"
    }
   ],
   "source": [
    "t.count('data')"
   ]
  },
  {
   "cell_type": "code",
   "execution_count": 6,
   "id": "7e2439ba",
   "metadata": {},
   "outputs": [
    {
     "data": {
      "text/plain": [
       "0"
      ]
     },
     "execution_count": 6,
     "metadata": {},
     "output_type": "execute_result"
    }
   ],
   "source": [
    "t.index(1)"
   ]
  },
  {
   "cell_type": "markdown",
   "id": "3223af28",
   "metadata": {},
   "source": [
    "# Lists"
   ]
  },
  {
   "cell_type": "code",
   "execution_count": 7,
   "id": "004b8c40",
   "metadata": {},
   "outputs": [
    {
     "data": {
      "text/plain": [
       "list"
      ]
     },
     "execution_count": 7,
     "metadata": {},
     "output_type": "execute_result"
    }
   ],
   "source": [
    "l = [1, 2.5, 'data']\n",
    "type(l)"
   ]
  },
  {
   "cell_type": "code",
   "execution_count": 8,
   "id": "df152dd1",
   "metadata": {},
   "outputs": [
    {
     "data": {
      "text/plain": [
       "'data'"
      ]
     },
     "execution_count": 8,
     "metadata": {},
     "output_type": "execute_result"
    }
   ],
   "source": [
    "l[2]"
   ]
  },
  {
   "cell_type": "code",
   "execution_count": 9,
   "id": "e6976f37",
   "metadata": {},
   "outputs": [
    {
     "data": {
      "text/plain": [
       "[1, 2.5, 'data']"
      ]
     },
     "execution_count": 9,
     "metadata": {},
     "output_type": "execute_result"
    }
   ],
   "source": [
    "l = list(t)\n",
    "l"
   ]
  },
  {
   "cell_type": "code",
   "execution_count": 10,
   "id": "a6dde7f9",
   "metadata": {},
   "outputs": [
    {
     "data": {
      "text/plain": [
       "list"
      ]
     },
     "execution_count": 10,
     "metadata": {},
     "output_type": "execute_result"
    }
   ],
   "source": [
    "type(l)"
   ]
  },
  {
   "cell_type": "code",
   "execution_count": 11,
   "id": "0aaf00a7",
   "metadata": {},
   "outputs": [
    {
     "data": {
      "text/plain": [
       "[1, 2.5, 'data', [4, 3]]"
      ]
     },
     "execution_count": 11,
     "metadata": {},
     "output_type": "execute_result"
    }
   ],
   "source": [
    "l.append([4, 3])\n",
    "l"
   ]
  },
  {
   "cell_type": "code",
   "execution_count": 12,
   "id": "26a2008c",
   "metadata": {},
   "outputs": [
    {
     "data": {
      "text/plain": [
       "[1, 2.5, 'data', [4, 3], 1.0, 1.5, 2.0]"
      ]
     },
     "execution_count": 12,
     "metadata": {},
     "output_type": "execute_result"
    }
   ],
   "source": [
    "l.extend([1.0, 1.5, 2.0])\n",
    "l"
   ]
  },
  {
   "cell_type": "code",
   "execution_count": 13,
   "id": "f6d5a497",
   "metadata": {},
   "outputs": [
    {
     "data": {
      "text/plain": [
       "[1, 'insert', 2.5, 'data', [4, 3], 1.0, 1.5, 2.0]"
      ]
     },
     "execution_count": 13,
     "metadata": {},
     "output_type": "execute_result"
    }
   ],
   "source": [
    "l.insert(1, 'insert')\n",
    "l"
   ]
  },
  {
   "cell_type": "code",
   "execution_count": 14,
   "id": "849e7b47",
   "metadata": {},
   "outputs": [
    {
     "name": "stdout",
     "output_type": "stream",
     "text": [
      "[1, 'insert', 2.5, [4, 3], 1.0, 1.5, 2.0] data\n"
     ]
    }
   ],
   "source": [
    "p = l.pop(3)\n",
    "print(l, p)"
   ]
  },
  {
   "cell_type": "markdown",
   "id": "550e6574",
   "metadata": {},
   "source": [
    "## Slicing"
   ]
  },
  {
   "cell_type": "code",
   "execution_count": 19,
   "id": "b28d3933",
   "metadata": {},
   "outputs": [
    {
     "data": {
      "text/plain": [
       "[1.0, 1.5, 2.0]"
      ]
     },
     "execution_count": 19,
     "metadata": {},
     "output_type": "execute_result"
    }
   ],
   "source": [
    "l[4:7]"
   ]
  },
  {
   "cell_type": "code",
   "execution_count": 20,
   "id": "9bb083cb",
   "metadata": {},
   "outputs": [
    {
     "name": "stdout",
     "output_type": "stream",
     "text": [
      "1.0\n",
      "2.25\n",
      "4.0\n"
     ]
    }
   ],
   "source": [
    "for element in l[4:7]:\n",
    "    print(element ** 2)"
   ]
  },
  {
   "cell_type": "code",
   "execution_count": 21,
   "id": "28dac2fc",
   "metadata": {},
   "outputs": [
    {
     "name": "stdout",
     "output_type": "stream",
     "text": [
      "1.0\n",
      "2.25\n",
      "4.0\n"
     ]
    }
   ],
   "source": [
    "for i in range(4, 7):\n",
    "    print(l[i] ** 2)"
   ]
  },
  {
   "cell_type": "code",
   "execution_count": 22,
   "id": "97e2dad6",
   "metadata": {},
   "outputs": [
    {
     "data": {
      "text/plain": [
       "[2, 'insert', 2.5, [4, 3], 1.0, 1.5, 2.0]"
      ]
     },
     "execution_count": 22,
     "metadata": {},
     "output_type": "execute_result"
    }
   ],
   "source": [
    "l\n",
    "l[0] = 2\n",
    "l"
   ]
  },
  {
   "cell_type": "code",
   "execution_count": 23,
   "id": "f65c524e",
   "metadata": {},
   "outputs": [
    {
     "data": {
      "text/plain": [
       "['b', 'insert', 'y', [4, 3], 'e', 1.5, 2.0]"
      ]
     },
     "execution_count": 23,
     "metadata": {},
     "output_type": "execute_result"
    }
   ],
   "source": [
    "l\n",
    "l[0:5:2] = 'bye'\n",
    "l"
   ]
  },
  {
   "cell_type": "code",
   "execution_count": 26,
   "id": "be548110",
   "metadata": {},
   "outputs": [
    {
     "data": {
      "text/plain": [
       "[2.0, 1.5, 'e', [4, 3], 'y', 'insert', 'b']"
      ]
     },
     "execution_count": 26,
     "metadata": {},
     "output_type": "execute_result"
    }
   ],
   "source": [
    "l.reverse()\n",
    "l"
   ]
  },
  {
   "cell_type": "markdown",
   "id": "66138238",
   "metadata": {},
   "source": [
    "## Control Structures"
   ]
  },
  {
   "cell_type": "code",
   "execution_count": 27,
   "id": "20cba4e9",
   "metadata": {},
   "outputs": [
    {
     "data": {
      "text/plain": [
       "range(0, 8)"
      ]
     },
     "execution_count": 27,
     "metadata": {},
     "output_type": "execute_result"
    }
   ],
   "source": [
    "r = range(0, 8, 1)\n",
    "r"
   ]
  },
  {
   "cell_type": "code",
   "execution_count": 28,
   "id": "8a038336",
   "metadata": {},
   "outputs": [
    {
     "data": {
      "text/plain": [
       "range"
      ]
     },
     "execution_count": 28,
     "metadata": {},
     "output_type": "execute_result"
    }
   ],
   "source": [
    "type(r)"
   ]
  },
  {
   "cell_type": "code",
   "execution_count": 29,
   "id": "b4578f96",
   "metadata": {},
   "outputs": [
    {
     "name": "stdout",
     "output_type": "stream",
     "text": [
      "1 is odd\n",
      "2 is even\n",
      "3 is multiple of 3\n",
      "4 is even\n",
      "5 is odd\n",
      "6 is even\n",
      "7 is odd\n",
      "8 is even\n",
      "9 is multiple of 3\n"
     ]
    }
   ],
   "source": [
    "for i in range(1, 10):\n",
    "    if i % 2 == 0:\n",
    "        print(\"%d is even\" % i)\n",
    "    elif i % 3 == 0:\n",
    "        print(\"%d is multiple of 3\" % i)\n",
    "    else:\n",
    "        print(\"%d is odd\" % i)"
   ]
  },
  {
   "cell_type": "code",
   "execution_count": 30,
   "id": "f79c71b1",
   "metadata": {},
   "outputs": [
    {
     "name": "stdout",
     "output_type": "stream",
     "text": [
      "100\n"
     ]
    }
   ],
   "source": [
    "total = 0\n",
    "while total < 100:\n",
    "    total += 1\n",
    "print(total)"
   ]
  },
  {
   "cell_type": "markdown",
   "id": "69e62633",
   "metadata": {},
   "source": [
    "## List Comprehension"
   ]
  },
  {
   "cell_type": "code",
   "execution_count": 31,
   "id": "f7ecbe09",
   "metadata": {},
   "outputs": [
    {
     "data": {
      "text/plain": [
       "[0, 1, 4, 9, 16]"
      ]
     },
     "execution_count": 31,
     "metadata": {},
     "output_type": "execute_result"
    }
   ],
   "source": [
    "m = [i ** 2 for i in range(5)]\n",
    "m"
   ]
  },
  {
   "cell_type": "markdown",
   "id": "1706e08d",
   "metadata": {},
   "source": [
    "## Functional Programming (avoiding loops)"
   ]
  },
  {
   "cell_type": "code",
   "execution_count": 32,
   "id": "a83354ae",
   "metadata": {},
   "outputs": [
    {
     "data": {
      "text/plain": [
       "4"
      ]
     },
     "execution_count": 32,
     "metadata": {},
     "output_type": "execute_result"
    }
   ],
   "source": [
    "def f(x):\n",
    "    return x ** 2\n",
    "f(2)"
   ]
  },
  {
   "cell_type": "code",
   "execution_count": 34,
   "id": "1c2c41b8",
   "metadata": {},
   "outputs": [
    {
     "data": {
      "text/plain": [
       "False"
      ]
     },
     "execution_count": 34,
     "metadata": {},
     "output_type": "execute_result"
    }
   ],
   "source": [
    "def even(x):\n",
    "    return x % 2 == 0\n",
    "even(3)"
   ]
  },
  {
   "cell_type": "code",
   "execution_count": 35,
   "id": "cf444726",
   "metadata": {},
   "outputs": [
    {
     "data": {
      "text/plain": [
       "[True, False, True, False, True, False, True, False, True, False]"
      ]
     },
     "execution_count": 35,
     "metadata": {},
     "output_type": "execute_result"
    }
   ],
   "source": [
    "list(map(even, range(10)))"
   ]
  },
  {
   "cell_type": "code",
   "execution_count": 37,
   "id": "7a2dfe0b",
   "metadata": {},
   "outputs": [
    {
     "data": {
      "text/plain": [
       "[0, 1, 4, 9, 16, 25, 36, 49, 64, 81]"
      ]
     },
     "execution_count": 37,
     "metadata": {},
     "output_type": "execute_result"
    }
   ],
   "source": [
    "list(map(lambda x: x ** 2, range(10)))"
   ]
  },
  {
   "cell_type": "code",
   "execution_count": 38,
   "id": "b9d4e2d9",
   "metadata": {},
   "outputs": [
    {
     "data": {
      "text/plain": [
       "[0, 2, 4, 6, 8, 10, 12, 14]"
      ]
     },
     "execution_count": 38,
     "metadata": {},
     "output_type": "execute_result"
    }
   ],
   "source": [
    "list(filter(even, range(15)))"
   ]
  },
  {
   "cell_type": "markdown",
   "id": "6016883a",
   "metadata": {},
   "source": [
    "# Dicts"
   ]
  },
  {
   "cell_type": "code",
   "execution_count": 39,
   "id": "d1b94f1b",
   "metadata": {},
   "outputs": [
    {
     "data": {
      "text/plain": [
       "dict"
      ]
     },
     "execution_count": 39,
     "metadata": {},
     "output_type": "execute_result"
    }
   ],
   "source": [
    "d = {\n",
    "    'Name': 'Matthew Hanna',\n",
    "    'Country': 'USA',\n",
    "    'Profession': 'Software Engineer',\n",
    "    'Age': 30\n",
    "}\n",
    "type(d)"
   ]
  },
  {
   "cell_type": "code",
   "execution_count": 40,
   "id": "78553eae",
   "metadata": {},
   "outputs": [
    {
     "name": "stdout",
     "output_type": "stream",
     "text": [
      "Matthew Hanna 30\n"
     ]
    }
   ],
   "source": [
    "print(d['Name'], d['Age'])"
   ]
  },
  {
   "cell_type": "code",
   "execution_count": 41,
   "id": "455ed86b",
   "metadata": {},
   "outputs": [
    {
     "data": {
      "text/plain": [
       "dict_keys(['Name', 'Country', 'Profession', 'Age'])"
      ]
     },
     "execution_count": 41,
     "metadata": {},
     "output_type": "execute_result"
    }
   ],
   "source": [
    "d.keys()"
   ]
  },
  {
   "cell_type": "code",
   "execution_count": 42,
   "id": "19d13bf9",
   "metadata": {},
   "outputs": [
    {
     "data": {
      "text/plain": [
       "dict_values(['Matthew Hanna', 'USA', 'Software Engineer', 30])"
      ]
     },
     "execution_count": 42,
     "metadata": {},
     "output_type": "execute_result"
    }
   ],
   "source": [
    "d.values()"
   ]
  },
  {
   "cell_type": "code",
   "execution_count": 43,
   "id": "8aa80f92",
   "metadata": {},
   "outputs": [
    {
     "data": {
      "text/plain": [
       "dict_items([('Name', 'Matthew Hanna'), ('Country', 'USA'), ('Profession', 'Software Engineer'), ('Age', 30)])"
      ]
     },
     "execution_count": 43,
     "metadata": {},
     "output_type": "execute_result"
    }
   ],
   "source": [
    "d.items()"
   ]
  },
  {
   "cell_type": "code",
   "execution_count": 44,
   "id": "51de6a93",
   "metadata": {},
   "outputs": [
    {
     "name": "stdout",
     "output_type": "stream",
     "text": [
      "('Name', 'Matthew Hanna')\n",
      "('Country', 'USA')\n",
      "('Profession', 'Software Engineer')\n",
      "('Age', 30)\n"
     ]
    }
   ],
   "source": [
    "for item in d.items():\n",
    "    print(item)"
   ]
  },
  {
   "cell_type": "markdown",
   "id": "b266075c",
   "metadata": {},
   "source": [
    "# Sets"
   ]
  },
  {
   "cell_type": "code",
   "execution_count": 45,
   "id": "89cc7f1d",
   "metadata": {},
   "outputs": [
    {
     "data": {
      "text/plain": [
       "{'d', 'du', 'u', 'ud'}"
      ]
     },
     "execution_count": 45,
     "metadata": {},
     "output_type": "execute_result"
    }
   ],
   "source": [
    "s = set(['u', 'd', 'ud', 'du', 'd', 'du'])\n",
    "s"
   ]
  },
  {
   "cell_type": "code",
   "execution_count": 46,
   "id": "442f7c5e",
   "metadata": {},
   "outputs": [],
   "source": [
    "t = set(['d', 'dd', 'uu', 'u'])"
   ]
  },
  {
   "cell_type": "code",
   "execution_count": 47,
   "id": "fdd8d091",
   "metadata": {},
   "outputs": [
    {
     "data": {
      "text/plain": [
       "{'d', 'dd', 'du', 'u', 'ud', 'uu'}"
      ]
     },
     "execution_count": 47,
     "metadata": {},
     "output_type": "execute_result"
    }
   ],
   "source": [
    "s.union(t)"
   ]
  },
  {
   "cell_type": "code",
   "execution_count": 48,
   "id": "6df14d1a",
   "metadata": {},
   "outputs": [
    {
     "data": {
      "text/plain": [
       "{'d', 'u'}"
      ]
     },
     "execution_count": 48,
     "metadata": {},
     "output_type": "execute_result"
    }
   ],
   "source": [
    "s.intersection(t)"
   ]
  },
  {
   "cell_type": "code",
   "execution_count": 49,
   "id": "2860dab4",
   "metadata": {},
   "outputs": [
    {
     "data": {
      "text/plain": [
       "{'du', 'ud'}"
      ]
     },
     "execution_count": 49,
     "metadata": {},
     "output_type": "execute_result"
    }
   ],
   "source": [
    "s.difference(t)"
   ]
  },
  {
   "cell_type": "code",
   "execution_count": 50,
   "id": "152e3c1c",
   "metadata": {},
   "outputs": [
    {
     "data": {
      "text/plain": [
       "{'dd', 'uu'}"
      ]
     },
     "execution_count": 50,
     "metadata": {},
     "output_type": "execute_result"
    }
   ],
   "source": [
    "t.difference(s)"
   ]
  },
  {
   "cell_type": "code",
   "execution_count": 51,
   "id": "5ff14fed",
   "metadata": {},
   "outputs": [
    {
     "data": {
      "text/plain": [
       "{'dd', 'du', 'ud', 'uu'}"
      ]
     },
     "execution_count": 51,
     "metadata": {},
     "output_type": "execute_result"
    }
   ],
   "source": [
    "s.symmetric_difference(t)"
   ]
  },
  {
   "cell_type": "code",
   "execution_count": 52,
   "id": "e823c57d",
   "metadata": {},
   "outputs": [
    {
     "data": {
      "text/plain": [
       "1000"
      ]
     },
     "execution_count": 52,
     "metadata": {},
     "output_type": "execute_result"
    }
   ],
   "source": [
    "from random import randint\n",
    "l = [randint(0, 10) for i in range(1000)]\n",
    "len(l)"
   ]
  },
  {
   "cell_type": "code",
   "execution_count": 53,
   "id": "8d7e5346",
   "metadata": {},
   "outputs": [
    {
     "data": {
      "text/plain": [
       "[7, 6, 9, 0, 0, 9, 2, 10, 8, 8, 10, 7, 0, 2, 6, 7, 5, 0, 10, 9]"
      ]
     },
     "execution_count": 53,
     "metadata": {},
     "output_type": "execute_result"
    }
   ],
   "source": [
    "l[:20]"
   ]
  },
  {
   "cell_type": "code",
   "execution_count": 54,
   "id": "b4c72494",
   "metadata": {},
   "outputs": [
    {
     "data": {
      "text/plain": [
       "{0, 1, 2, 3, 4, 5, 6, 7, 8, 9, 10}"
      ]
     },
     "execution_count": 54,
     "metadata": {},
     "output_type": "execute_result"
    }
   ],
   "source": [
    "s = set(l)\n",
    "s"
   ]
  },
  {
   "cell_type": "code",
   "execution_count": null,
   "id": "74a69e93",
   "metadata": {},
   "outputs": [],
   "source": []
  }
 ],
 "metadata": {
  "kernelspec": {
   "display_name": "Python 3",
   "language": "python",
   "name": "python3"
  },
  "language_info": {
   "codemirror_mode": {
    "name": "ipython",
    "version": 3
   },
   "file_extension": ".py",
   "mimetype": "text/x-python",
   "name": "python",
   "nbconvert_exporter": "python",
   "pygments_lexer": "ipython3",
   "version": "3.9.5"
  }
 },
 "nbformat": 4,
 "nbformat_minor": 5
}
