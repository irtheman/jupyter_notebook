{
 "metadata": {
  "kernelspec": {
   "display_name": ".NET (F#)",
   "language": "F#",
   "name": ".net-fsharp"
  },
  "language_info": {
   "name": "F#"
  }
 },
 "cells": [
  {
   "cell_type": "markdown",
   "source": [
    "# F\\# Information"
   ],
   "metadata": {
    "dotnet_interactive": {
     "language": "fsharp"
    }
   }
  },
  {
   "cell_type": "markdown",
   "source": [
    "## Comments"
   ],
   "metadata": {}
  },
  {
   "cell_type": "code",
   "execution_count": null,
   "source": [
    "(* This is block comment *)\r\n",
    "\r\n",
    "// And this is line comment\r\n",
    "\r\n",
    "/// Documentation - The 'let' keyword defines an immutable value\r\n",
    "let result = 1 + 1 = 2"
   ],
   "outputs": [],
   "metadata": {
    "dotnet_interactive": {
     "language": "fsharp"
    }
   }
  },
  {
   "cell_type": "markdown",
   "source": [
    "## Strings"
   ],
   "metadata": {}
  },
  {
   "cell_type": "code",
   "execution_count": null,
   "source": [
    "/// Create a string using string concatenation\r\n",
    "let hello = \"Hello\" + \" World\""
   ],
   "outputs": [],
   "metadata": {
    "dotnet_interactive": {
     "language": "fsharp"
    }
   }
  },
  {
   "cell_type": "code",
   "execution_count": null,
   "source": [
    "// Verbatim string\r\n",
    "let verbatimXml = @\"<book title=\"\"Paradise Lost\"\">\""
   ],
   "outputs": [],
   "metadata": {
    "dotnet_interactive": {
     "language": "fsharp"
    }
   }
  },
  {
   "cell_type": "code",
   "execution_count": null,
   "source": [
    "// Triple quoted strings\r\n",
    "let tripleXml = \"\"\"<book title=\"Paradise Lost\">\"\"\""
   ],
   "outputs": [],
   "metadata": {
    "dotnet_interactive": {
     "language": "fsharp"
    }
   }
  },
  {
   "cell_type": "code",
   "execution_count": null,
   "source": [
    "// Backslash strings strip leading spaces\r\n",
    "let details = \r\n",
    "    \"This is a line\\n\\\r\n",
    "     of text to read\\n\\\r\n",
    "     as an example of\\n\\\r\n",
    "     backslash strings.\""
   ],
   "outputs": [],
   "metadata": {
    "dotnet_interactive": {
     "language": "fsharp"
    }
   }
  },
  {
   "cell_type": "markdown",
   "source": [
    "## Basic Types and Literals\r\n",
    "\r\n",
    "| Type   | Suffix | Example |\r\n",
    "|:-------|:-------|:--------|\r\n",
    "| sbyte  | y      | 86y     |\r\n",
    "| byte   | uy     | 86uy    |\r\n",
    "| int16  | s      | 86s     |\r\n",
    "| uint16 | us     | 86us    |\r\n",
    "| int or int32    | I or none | 86  |\r\n",
    "| uint or uint32  | u or ul   | 86u |\r\n",
    "| int64  | L      | 86L     |\r\n",
    "| uint64 | UL     | 86UL    |\r\n",
    "| single or float32 | F or f | 4.14F |\r\n",
    "| float or double   | none   | 4.14  |\r\n",
    "| bigint  | I      | 999999999999999999999I |\r\n",
    "| decimal | M or m | 0.7833M  |\r\n",
    "| Char   | none    | 'a'      |\r\n",
    "| String | none    | \"string\" |\r\n",
    "| byte   | B       | 'a'B     |\r\n",
    "| byte[] | B       | \"string\"B |\r\n"
   ],
   "metadata": {
    "dotnet_interactive": {
     "language": "csharp"
    }
   }
  },
  {
   "cell_type": "code",
   "execution_count": null,
   "source": [
    "// uy is for unsigned 8-bit integers and L is for 64-bit integers\r\n",
    "let b, i, l = 86uy, 86, 86L"
   ],
   "outputs": [],
   "metadata": {
    "dotnet_interactive": {
     "language": "fsharp"
    }
   }
  },
  {
   "cell_type": "code",
   "execution_count": null,
   "source": [
    "// F or f for floats, M or m for decimals, and I for big integers\r\n",
    "let s, f, d, bi = 4.14F, 4.14, 0.7833M, 9999I"
   ],
   "outputs": [],
   "metadata": {
    "dotnet_interactive": {
     "language": "fsharp"
    }
   }
  },
  {
   "cell_type": "markdown",
   "source": [
    "Signed 32-bit integers can also be specified in hexadecimal, octal, or binary using a 0x, 0o or 0b prefix respectively.  \r\n",
    "You can separate digits using the underscore character."
   ],
   "metadata": {}
  },
  {
   "cell_type": "code",
   "execution_count": null,
   "source": [
    "let value = 0xDEAD_BEEF\r\n",
    "let valueAsBits = 0b1101_1110_1010_1101_1011_1110_1110_1111\r\n",
    "let exampleSSN = 123_456_7890"
   ],
   "outputs": [],
   "metadata": {
    "dotnet_interactive": {
     "language": "fsharp"
    }
   }
  },
  {
   "cell_type": "markdown",
   "source": [
    "Named literals are values that are intended to be constants. Use the [<Literal>] attribute."
   ],
   "metadata": {}
  },
  {
   "cell_type": "code",
   "execution_count": null,
   "source": [
    "[<Literal>]\r\n",
    "let SomeJson = \"\"\"{\"numbers\":[1,2,3,4,5]}\"\"\"\r\n",
    "\r\n",
    "[<Literal>]\r\n",
    "let Literal1 = \"a\" + \"b\"\r\n",
    "\r\n",
    "[<Literal>]\r\n",
    "let Literal2 = 1 ||| 64"
   ],
   "outputs": [],
   "metadata": {
    "dotnet_interactive": {
     "language": "fsharp"
    }
   }
  },
  {
   "cell_type": "markdown",
   "source": [
    "## Functions"
   ],
   "metadata": {
    "dotnet_interactive": {
     "language": "csharp"
    }
   }
  },
  {
   "cell_type": "code",
   "execution_count": null,
   "source": [
    "let negate x = x * -1 \r\n",
    "let square x = x * x \r\n",
    "let print x = printfn \"The number is: %d\" x\r\n",
    "\r\n",
    "let squareNegateThenPrint x = print (negate (square x))"
   ],
   "outputs": [],
   "metadata": {
    "dotnet_interactive": {
     "language": "fsharp"
    }
   }
  },
  {
   "cell_type": "markdown",
   "source": [
    "## Pipe and Composition Operators\r\n",
    "\r\n",
    "Pipe |> is used to chain functions and arguments together.\r\n",
    "Double-backtick identifiers are handy for easier readability."
   ],
   "metadata": {}
  },
  {
   "cell_type": "code",
   "execution_count": null,
   "source": [
    "let ``square, negate, then print`` x = \r\n",
    "    x |> square |> negate |> print"
   ],
   "outputs": [],
   "metadata": {
    "dotnet_interactive": {
     "language": "fsharp"
    }
   }
  },
  {
   "cell_type": "code",
   "execution_count": null,
   "source": [
    "let sumOfLengths (xs : string []) = \r\n",
    "    xs \r\n",
    "    |> Array.map (fun s -> s.Length)\r\n",
    "    |> Array.sum"
   ],
   "outputs": [],
   "metadata": {
    "dotnet_interactive": {
     "language": "fsharp"
    }
   }
  },
  {
   "cell_type": "code",
   "execution_count": null,
   "source": [
    "The Composition operator >> is used to compose functions"
   ],
   "outputs": [],
   "metadata": {
    "dotnet_interactive": {
     "language": "fsharp"
    }
   }
  },
  {
   "cell_type": "code",
   "execution_count": null,
   "source": [
    "let squareNegateThenPrint' = \r\n",
    "    square >> negate >> print"
   ],
   "outputs": [],
   "metadata": {
    "dotnet_interactive": {
     "language": "fsharp"
    }
   }
  },
  {
   "cell_type": "markdown",
   "source": [
    "## Recursive Functions\r\n",
    "\r\n",
    "The rec keyword is used together with the let keyword to define a recursive function  \r\n",
    "while mutually recursive functions (those functions which call each other) are indicated by and keyword"
   ],
   "metadata": {}
  },
  {
   "cell_type": "code",
   "execution_count": null,
   "source": [
    "let rec fact x =\r\n",
    "    if x < 1 then 1\r\n",
    "    else x * fact (x - 1)"
   ],
   "outputs": [],
   "metadata": {
    "dotnet_interactive": {
     "language": "fsharp"
    }
   }
  },
  {
   "cell_type": "code",
   "execution_count": null,
   "source": [
    "let rec even x =\r\n",
    "   if x = 0 then true \r\n",
    "   else odd (x - 1)\r\n",
    "\r\n",
    "and odd x =\r\n",
    "   if x = 1 then true \r\n",
    "   else even (x - 1)"
   ],
   "outputs": [],
   "metadata": {
    "dotnet_interactive": {
     "language": "fsharp"
    }
   }
  },
  {
   "cell_type": "markdown",
   "source": [
    "## Pattern Matching\r\n",
    "\r\n",
    "Facilitated through match keyword. In order to match sophisticated inputs, one can use the when keyword to create filters or guards on patterns.  \r\n",
    "The function keyword also can be used to indicate pattern matching.  \r\n",
    "\r\n",
    "More on [Pattern Matching](https://docs.microsoft.com/en-us/dotnet/fsharp/language-reference/pattern-matching)"
   ],
   "metadata": {}
  },
  {
   "cell_type": "code",
   "execution_count": null,
   "source": [
    "let rec fib n =\r\n",
    "    match n with\r\n",
    "    | 0 -> 0\r\n",
    "    | 1 -> 1\r\n",
    "    | _ -> fib (n - 1) + fib (n - 2)"
   ],
   "outputs": [],
   "metadata": {
    "dotnet_interactive": {
     "language": "fsharp"
    }
   }
  },
  {
   "cell_type": "code",
   "execution_count": null,
   "source": [
    "let sign x = \r\n",
    "    match x with\r\n",
    "    | 0 -> 0\r\n",
    "    | x when x < 0 -> -1\r\n",
    "    | x -> 1"
   ],
   "outputs": [],
   "metadata": {
    "dotnet_interactive": {
     "language": "fsharp"
    }
   }
  },
  {
   "cell_type": "code",
   "execution_count": null,
   "source": [
    "let fst' (x, _) = x"
   ],
   "outputs": [],
   "metadata": {
    "dotnet_interactive": {
     "language": "fsharp"
    }
   }
  },
  {
   "cell_type": "code",
   "execution_count": null,
   "source": [
    "/// Similar to `fib`; using `function` for pattern matching\r\n",
    "let rec fib' = function\r\n",
    "    | 0 -> 0\r\n",
    "    | 1 -> 1\r\n",
    "    | n -> fib' (n - 1) + fib' (n - 2)"
   ],
   "outputs": [],
   "metadata": {
    "dotnet_interactive": {
     "language": "fsharp"
    }
   }
  },
  {
   "cell_type": "markdown",
   "source": [
    "## Collections\r\n",
    "\r\n",
    "A list is immutable.  \r\n",
    "Arrays are fixed-size, zero-based, mutable collections.  \r\n",
    "Sequences are a logical series of elements of the same type that work like lists but faster as each element is processed as needed."
   ],
   "metadata": {}
  },
  {
   "cell_type": "code",
   "execution_count": null,
   "source": [
    "// Lists use square brackets and `;` delimiter\r\n",
    "let list1 = [ \"a\"; \"b\" ]\r\n",
    "// :: is prepending\r\n",
    "let list2 = \"c\" :: list1\r\n",
    "// @ is concat    \r\n",
    "let list3 = list1 @ list2   \r\n",
    "\r\n",
    "// Recursion on list using (::) operator\r\n",
    "let rec sum list = \r\n",
    "    match list with\r\n",
    "    | [] -> 0\r\n",
    "    | x :: xs -> x + sum xs"
   ],
   "outputs": [],
   "metadata": {
    "dotnet_interactive": {
     "language": "fsharp"
    }
   }
  },
  {
   "cell_type": "code",
   "execution_count": null,
   "source": [
    "// Arrays use square brackets with bar\r\n",
    "let array1 = [| \"a\"; \"b\" |]\r\n",
    "// Indexed access using dot\r\n",
    "let first = array1.[0]  "
   ],
   "outputs": [],
   "metadata": {
    "dotnet_interactive": {
     "language": "fsharp"
    }
   }
  },
  {
   "cell_type": "code",
   "execution_count": null,
   "source": [
    "// Sequences can use yield and contain subsequences\r\n",
    "let seq1 = \r\n",
    "    seq {\r\n",
    "        // \"yield\" adds one element\r\n",
    "        yield 1\r\n",
    "        yield 2\r\n",
    "\r\n",
    "        // \"yield!\" adds a whole subsequence\r\n",
    "        yield! [5..10]\r\n",
    "    }"
   ],
   "outputs": [],
   "metadata": {
    "dotnet_interactive": {
     "language": "fsharp"
    }
   }
  },
  {
   "cell_type": "code",
   "execution_count": null,
   "source": [
    "// Using range...\r\n",
    "let xs = [ 1..2..9 ]\r\n",
    "// Using comprehensions...\r\n",
    "let ys = [| for i in 0..4 -> 2 * i + 1 |]\r\n",
    "// Using init function...\r\n",
    "let zs = List.init 5 (fun i -> 2 * i + 1)"
   ],
   "outputs": [],
   "metadata": {
    "dotnet_interactive": {
     "language": "fsharp"
    }
   }
  },
  {
   "cell_type": "markdown",
   "source": [
    "### High-Order Functions"
   ],
   "metadata": {}
  },
  {
   "cell_type": "code",
   "execution_count": null,
   "source": [
    "// fold starts from the left of the list (or array) and foldBack goes in the opposite direction\r\n",
    "let xs' = Array.fold (fun str n -> sprintf \"%s,%i\" str n) \"\" [| 0..9 |]"
   ],
   "outputs": [],
   "metadata": {
    "dotnet_interactive": {
     "language": "fsharp"
    }
   }
  },
  {
   "cell_type": "code",
   "execution_count": null,
   "source": [
    "// reduce doesn't require an initial accumulator\r\n",
    "let last xs = List.reduce (fun acc x -> x) xs"
   ],
   "outputs": [],
   "metadata": {
    "dotnet_interactive": {
     "language": "fsharp"
    }
   }
  },
  {
   "cell_type": "code",
   "execution_count": null,
   "source": [
    "// map transforms every element of the list (or array)\r\n",
    "let ys' = Array.map (fun x -> x * x) [| 0..9 |]"
   ],
   "outputs": [],
   "metadata": {
    "dotnet_interactive": {
     "language": "fsharp"
    }
   }
  },
  {
   "cell_type": "code",
   "execution_count": null,
   "source": [
    "// iterate through a list and produce side effects\r\n",
    "let _ = List.iter (printfn \"%i\") [ 0..9 ] "
   ],
   "outputs": [],
   "metadata": {
    "dotnet_interactive": {
     "language": "fsharp"
    }
   }
  },
  {
   "cell_type": "code",
   "execution_count": null,
   "source": [
    "// Sequences are supported as well...\r\n",
    "let zs' =\r\n",
    "    seq { \r\n",
    "        for i in 0..9 do\r\n",
    "            printfn \"Adding %d\" i\r\n",
    "            yield i\r\n",
    "    }"
   ],
   "outputs": [],
   "metadata": {
    "dotnet_interactive": {
     "language": "fsharp"
    }
   }
  },
  {
   "cell_type": "markdown",
   "source": [
    "## Tuples and Records\r\n",
    "\r\n",
    "A tuple is a grouping of unnamed but ordered values, possibly of different types.  \r\n",
    "The first and second elements of a tuple can be obtained using fst, snd, or pattern matching.  \r\n",
    "Records represent simple aggregates of named values, optionally with members.  \r\n",
    "Records can be augmented with properties and methods. They are essentially sealed classes."
   ],
   "metadata": {}
  },
  {
   "cell_type": "code",
   "execution_count": null,
   "source": [
    "// Tuple construction\r\n",
    "let x = (1, \"Hello\")\r\n",
    "\r\n",
    "// Triple\r\n",
    "let y = (\"one\", \"two\", \"three\") \r\n",
    "\r\n",
    "// Tuple deconstruction / pattern\r\n",
    "let (a', b') = x"
   ],
   "outputs": [],
   "metadata": {
    "dotnet_interactive": {
     "language": "fsharp"
    }
   }
  },
  {
   "cell_type": "code",
   "execution_count": null,
   "source": [
    "let c' = fst (1, 2)\r\n",
    "let d' = snd (1, 2)\r\n",
    "\r\n",
    "let print' tuple =\r\n",
    "    match tuple with\r\n",
    "    | (a, b) -> printfn \"Pair %A %A\" a b"
   ],
   "outputs": [],
   "metadata": {
    "dotnet_interactive": {
     "language": "fsharp"
    }
   }
  },
  {
   "cell_type": "code",
   "execution_count": null,
   "source": [
    "// Declare a record type\r\n",
    "type Person = { Name : string; Age : int }\r\n",
    "\r\n",
    "// Create a value via record expression\r\n",
    "let paul = { Name = \"Paul\"; Age = 28 }\r\n",
    "\r\n",
    "// 'Copy and update' record expression\r\n",
    "let paulsTwin = { paul with Name = \"Jim\" }"
   ],
   "outputs": [],
   "metadata": {
    "dotnet_interactive": {
     "language": "fsharp"
    }
   }
  },
  {
   "cell_type": "code",
   "execution_count": null,
   "source": [
    "type Person with\r\n",
    "    member x.Info = (x.Name, x.Age)"
   ],
   "outputs": [],
   "metadata": {
    "dotnet_interactive": {
     "language": "fsharp"
    }
   }
  },
  {
   "cell_type": "code",
   "execution_count": null,
   "source": [
    "let isPaul person =\r\n",
    "    match person with\r\n",
    "    | { Name = \"Paul\" } -> true\r\n",
    "    | _ -> false"
   ],
   "outputs": [],
   "metadata": {
    "dotnet_interactive": {
     "language": "fsharp"
    }
   }
  },
  {
   "cell_type": "markdown",
   "source": [
    "## Descriminated Unions"
   ],
   "metadata": {}
  },
  {
   "cell_type": "code",
   "execution_count": null,
   "source": [
    "type Tree<'T> =\r\n",
    "    | Node of Tree<'T> * 'T * Tree<'T>\r\n",
    "    | Leaf\r\n",
    "\r\n",
    "\r\n",
    "let rec depth = function\r\n",
    "    | Node(l, _, r) -> 1 + max (depth l) (depth r)\r\n",
    "    | Leaf -> 0"
   ],
   "outputs": [],
   "metadata": {
    "dotnet_interactive": {
     "language": "fsharp"
    }
   }
  },
  {
   "cell_type": "code",
   "execution_count": null,
   "source": [
    "let optionPatternMatch input =\r\n",
    "   match input with\r\n",
    "    | Some i -> printfn \"input is an int=%d\" i\r\n",
    "    | None -> printfn \"input is missing\""
   ],
   "outputs": [],
   "metadata": {
    "dotnet_interactive": {
     "language": "fsharp"
    }
   }
  },
  {
   "cell_type": "code",
   "execution_count": null,
   "source": [
    "type OrderId = Order of string\r\n",
    "\r\n",
    "// Create a DU value\r\n",
    "let orderId = Order \"12\"\r\n",
    "\r\n",
    "// Use pattern matching to deconstruct single-case DU\r\n",
    "let (Order id) = orderId"
   ],
   "outputs": [],
   "metadata": {
    "dotnet_interactive": {
     "language": "fsharp"
    }
   }
  },
  {
   "cell_type": "markdown",
   "source": [
    "## Exceptions\r\n",
    "\r\n",
    "The failwith function throws an exception of type Exception.  \r\n",
    "Exception handling is done via try/with expressions.  \r\n",
    "The try/finally expression enables you to execute clean-up code even if a block of code throws an exception."
   ],
   "metadata": {}
  },
  {
   "cell_type": "code",
   "execution_count": null,
   "source": [
    "let divideFailwith x y =\r\n",
    "    if y = 0 then \r\n",
    "        failwith \"Divisor cannot be zero.\" \r\n",
    "    else x / y"
   ],
   "outputs": [],
   "metadata": {
    "dotnet_interactive": {
     "language": "fsharp"
    }
   }
  },
  {
   "cell_type": "code",
   "execution_count": null,
   "source": [
    "let divide x y =\r\n",
    "   try\r\n",
    "       Some (x / y)\r\n",
    "   with :? System.DivideByZeroException -> \r\n",
    "       printfn \"Division by zero!\"\r\n",
    "       None"
   ],
   "outputs": [],
   "metadata": {
    "dotnet_interactive": {
     "language": "fsharp"
    }
   }
  },
  {
   "cell_type": "code",
   "execution_count": null,
   "source": [
    "exception InnerError of string\r\n",
    "exception OuterError of string\r\n",
    "\r\n",
    "let handleErrors x y =\r\n",
    "   try \r\n",
    "     try \r\n",
    "        if x = y then raise (InnerError(\"inner\"))\r\n",
    "        else raise (OuterError(\"outer\"))\r\n",
    "     with InnerError(str) -> \r\n",
    "          printfn \"Error1 %s\" str\r\n",
    "   finally\r\n",
    "      printfn \"Always print this.\""
   ],
   "outputs": [],
   "metadata": {
    "dotnet_interactive": {
     "language": "fsharp"
    }
   }
  },
  {
   "cell_type": "markdown",
   "source": [
    "## Classes and Inheritance\r\n",
    "\r\n",
    "Upcasting is denoted by :> operator.  \r\n",
    "Dynamic downcasting (:?>) might throw an InvalidCastException if the cast doesn't succeed at runtime."
   ],
   "metadata": {}
  },
  {
   "cell_type": "code",
   "execution_count": null,
   "source": [
    "type Vector(x : float, y : float) =\r\n",
    "    let mag = sqrt(x * x + y * y)\r\n",
    "    member this.X = x\r\n",
    "    member this.Y = y\r\n",
    "    member this.Mag = mag\r\n",
    "    member this.Scale(s) = Vector(x * s, y * s)\r\n",
    "    static member (+) (a : Vector, b : Vector) = Vector(a.X + b.X, a.Y + b.Y)"
   ],
   "outputs": [],
   "metadata": {
    "dotnet_interactive": {
     "language": "fsharp"
    }
   }
  },
  {
   "cell_type": "code",
   "execution_count": null,
   "source": [
    "type Animal() =\r\n",
    "    member __.Rest() = ()\r\n",
    "\r\n",
    "type Dog() =\r\n",
    "    inherit Animal()\r\n",
    "    member __.Run() =\r\n",
    "        base.Rest()"
   ],
   "outputs": [],
   "metadata": {
    "dotnet_interactive": {
     "language": "fsharp"
    }
   }
  },
  {
   "cell_type": "code",
   "execution_count": null,
   "source": [
    "let dog = Dog() \r\n",
    "let animal = dog :> Animal"
   ],
   "outputs": [],
   "metadata": {
    "dotnet_interactive": {
     "language": "fsharp"
    }
   }
  },
  {
   "cell_type": "code",
   "execution_count": null,
   "source": [
    "let shouldBeADog = animal :?> Dog"
   ],
   "outputs": [],
   "metadata": {
    "dotnet_interactive": {
     "language": "fsharp"
    }
   }
  },
  {
   "cell_type": "markdown",
   "source": [
    "## Interfaces and Object Expressions"
   ],
   "metadata": {}
  },
  {
   "cell_type": "code",
   "execution_count": null,
   "source": [
    "type IVector =\r\n",
    "    abstract Scale : float -> IVector\r\n",
    "\r\n",
    "type Vector'(x, y) =\r\n",
    "    interface IVector with\r\n",
    "        member __.Scale(s) =\r\n",
    "            Vector'(x * s, y * s) :> IVector\r\n",
    "    member __.X = x\r\n",
    "    member __.Y = y"
   ],
   "outputs": [],
   "metadata": {
    "dotnet_interactive": {
     "language": "fsharp"
    }
   }
  },
  {
   "cell_type": "code",
   "execution_count": null,
   "source": [
    "type ICustomer =\r\n",
    "    abstract Name : string\r\n",
    "    abstract Age : int\r\n",
    "\r\n",
    "let createCustomer name age =\r\n",
    "    { new ICustomer with\r\n",
    "        member __.Name = name\r\n",
    "        member __.Age = age }"
   ],
   "outputs": [],
   "metadata": {
    "dotnet_interactive": {
     "language": "fsharp"
    }
   }
  },
  {
   "cell_type": "markdown",
   "source": [
    "## Active Patterns"
   ],
   "metadata": {}
  },
  {
   "cell_type": "code",
   "execution_count": null,
   "source": [
    "let (|Even|Odd|) i = \r\n",
    "    if i % 2 = 0 then Even else Odd\r\n",
    "\r\n",
    "let testNumber i =\r\n",
    "    match i with\r\n",
    "    | Even -> printfn \"%d is even\" i\r\n",
    "    | Odd -> printfn \"%d is odd\" i"
   ],
   "outputs": [],
   "metadata": {
    "dotnet_interactive": {
     "language": "fsharp"
    }
   }
  },
  {
   "cell_type": "code",
   "execution_count": null,
   "source": [
    "let (|DivisibleBy|_|) by n = \r\n",
    "    if n % by = 0 then Some DivisibleBy else None\r\n",
    "\r\n",
    "let fizzBuzz = function \r\n",
    "    | DivisibleBy 3 & DivisibleBy 5 -> \"FizzBuzz\" \r\n",
    "    | DivisibleBy 3 -> \"Fizz\" \r\n",
    "    | DivisibleBy 5 -> \"Buzz\" \r\n",
    "    | i -> string i"
   ],
   "outputs": [],
   "metadata": {
    "dotnet_interactive": {
     "language": "fsharp"
    }
   }
  }
 ],
 "nbformat": 4,
 "nbformat_minor": 2
}