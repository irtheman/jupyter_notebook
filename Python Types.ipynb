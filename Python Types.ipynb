{
 "cells": [
  {
   "cell_type": "markdown",
   "id": "2a148cce",
   "metadata": {},
   "source": [
    "# Keywords"
   ]
  },
  {
   "cell_type": "code",
   "execution_count": 3,
   "id": "519198a5",
   "metadata": {},
   "outputs": [],
   "source": [
    "import keyword"
   ]
  },
  {
   "cell_type": "code",
   "execution_count": 4,
   "id": "2e0e8ad2",
   "metadata": {},
   "outputs": [
    {
     "data": {
      "text/plain": [
       "['False',\n",
       " 'None',\n",
       " 'True',\n",
       " '__peg_parser__',\n",
       " 'and',\n",
       " 'as',\n",
       " 'assert',\n",
       " 'async',\n",
       " 'await',\n",
       " 'break',\n",
       " 'class',\n",
       " 'continue',\n",
       " 'def',\n",
       " 'del',\n",
       " 'elif',\n",
       " 'else',\n",
       " 'except',\n",
       " 'finally',\n",
       " 'for',\n",
       " 'from',\n",
       " 'global',\n",
       " 'if',\n",
       " 'import',\n",
       " 'in',\n",
       " 'is',\n",
       " 'lambda',\n",
       " 'nonlocal',\n",
       " 'not',\n",
       " 'or',\n",
       " 'pass',\n",
       " 'raise',\n",
       " 'return',\n",
       " 'try',\n",
       " 'while',\n",
       " 'with',\n",
       " 'yield']"
      ]
     },
     "execution_count": 4,
     "metadata": {},
     "output_type": "execute_result"
    }
   ],
   "source": [
    "keyword.kwlist"
   ]
  },
  {
   "cell_type": "markdown",
   "id": "7b84d664",
   "metadata": {},
   "source": [
    "# Integers"
   ]
  },
  {
   "cell_type": "code",
   "execution_count": 5,
   "id": "8f177962",
   "metadata": {},
   "outputs": [
    {
     "data": {
      "text/plain": [
       "int"
      ]
     },
     "execution_count": 5,
     "metadata": {},
     "output_type": "execute_result"
    }
   ],
   "source": [
    "a = 10\n",
    "type(a)"
   ]
  },
  {
   "cell_type": "code",
   "execution_count": 6,
   "id": "130dd5f4",
   "metadata": {},
   "outputs": [
    {
     "data": {
      "text/plain": [
       "4"
      ]
     },
     "execution_count": 6,
     "metadata": {},
     "output_type": "execute_result"
    }
   ],
   "source": [
    "a.bit_length()"
   ]
  },
  {
   "cell_type": "code",
   "execution_count": 7,
   "id": "c36558e6",
   "metadata": {},
   "outputs": [
    {
     "data": {
      "text/plain": [
       "17"
      ]
     },
     "execution_count": 7,
     "metadata": {},
     "output_type": "execute_result"
    }
   ],
   "source": [
    "a = 100000\n",
    "a.bit_length()"
   ]
  },
  {
   "cell_type": "code",
   "execution_count": 8,
   "id": "d7e8281c",
   "metadata": {},
   "outputs": [
    {
     "data": {
      "text/plain": [
       "10000000000000000000000000000000000000000000000000000000000000000000000000000000000000000000000000000"
      ]
     },
     "execution_count": 8,
     "metadata": {},
     "output_type": "execute_result"
    }
   ],
   "source": [
    "googol = 10 ** 100\n",
    "googol"
   ]
  },
  {
   "cell_type": "code",
   "execution_count": 9,
   "id": "336a56db",
   "metadata": {},
   "outputs": [
    {
     "data": {
      "text/plain": [
       "333"
      ]
     },
     "execution_count": 9,
     "metadata": {},
     "output_type": "execute_result"
    }
   ],
   "source": [
    "googol.bit_length()"
   ]
  },
  {
   "cell_type": "code",
   "execution_count": 10,
   "id": "87bc6c32",
   "metadata": {},
   "outputs": [
    {
     "data": {
      "text/plain": [
       "float"
      ]
     },
     "execution_count": 10,
     "metadata": {},
     "output_type": "execute_result"
    }
   ],
   "source": [
    "type(1/4)"
   ]
  },
  {
   "cell_type": "markdown",
   "id": "7dc4788c",
   "metadata": {},
   "source": [
    "# Floats"
   ]
  },
  {
   "cell_type": "code",
   "execution_count": 11,
   "id": "f6adf7bf",
   "metadata": {},
   "outputs": [
    {
     "data": {
      "text/plain": [
       "float"
      ]
     },
     "execution_count": 11,
     "metadata": {},
     "output_type": "execute_result"
    }
   ],
   "source": [
    "b= 0.35\n",
    "type(b)"
   ]
  },
  {
   "cell_type": "code",
   "execution_count": 12,
   "id": "1082a9ea",
   "metadata": {},
   "outputs": [
    {
     "data": {
      "text/plain": [
       "0.44999999999999996"
      ]
     },
     "execution_count": 12,
     "metadata": {},
     "output_type": "execute_result"
    }
   ],
   "source": [
    "b + 0.1"
   ]
  },
  {
   "cell_type": "code",
   "execution_count": 13,
   "id": "f61cbbc2",
   "metadata": {},
   "outputs": [
    {
     "data": {
      "text/plain": [
       "(1, 2)"
      ]
     },
     "execution_count": 13,
     "metadata": {},
     "output_type": "execute_result"
    }
   ],
   "source": [
    "c = 0.5\n",
    "c.as_integer_ratio()"
   ]
  },
  {
   "cell_type": "code",
   "execution_count": 14,
   "id": "10d9a7d8",
   "metadata": {},
   "outputs": [
    {
     "data": {
      "text/plain": [
       "(3152519739159347, 9007199254740992)"
      ]
     },
     "execution_count": 14,
     "metadata": {},
     "output_type": "execute_result"
    }
   ],
   "source": [
    "b.as_integer_ratio()"
   ]
  },
  {
   "cell_type": "code",
   "execution_count": 15,
   "id": "f74c8ff8",
   "metadata": {},
   "outputs": [],
   "source": [
    "import decimal\n",
    "from decimal import Decimal"
   ]
  },
  {
   "cell_type": "code",
   "execution_count": 16,
   "id": "f882fc26",
   "metadata": {},
   "outputs": [
    {
     "data": {
      "text/plain": [
       "Context(prec=28, rounding=ROUND_HALF_EVEN, Emin=-999999, Emax=999999, capitals=1, clamp=0, flags=[], traps=[InvalidOperation, DivisionByZero, Overflow])"
      ]
     },
     "execution_count": 16,
     "metadata": {},
     "output_type": "execute_result"
    }
   ],
   "source": [
    "decimal.getcontext()"
   ]
  },
  {
   "cell_type": "code",
   "execution_count": 17,
   "id": "2f003ced",
   "metadata": {},
   "outputs": [
    {
     "data": {
      "text/plain": [
       "Decimal('0.09090909090909090909090909091')"
      ]
     },
     "execution_count": 17,
     "metadata": {},
     "output_type": "execute_result"
    }
   ],
   "source": [
    "d = Decimal(1) / Decimal(11)\n",
    "d"
   ]
  },
  {
   "cell_type": "code",
   "execution_count": 18,
   "id": "fa09695a",
   "metadata": {},
   "outputs": [],
   "source": [
    "decimal.getcontext().prec = 4"
   ]
  },
  {
   "cell_type": "code",
   "execution_count": 19,
   "id": "e5df1733",
   "metadata": {},
   "outputs": [
    {
     "data": {
      "text/plain": [
       "Decimal('0.09090909090909090909090909091')"
      ]
     },
     "execution_count": 19,
     "metadata": {},
     "output_type": "execute_result"
    }
   ],
   "source": [
    "e = Decimal(1) / Decimal(11)\n",
    "e"
   ]
  },
  {
   "cell_type": "code",
   "execution_count": 20,
   "id": "ec963535",
   "metadata": {},
   "outputs": [],
   "source": [
    "decimal.getcontext().prec = 50"
   ]
  },
  {
   "cell_type": "code",
   "execution_count": 21,
   "id": "b7c6940c",
   "metadata": {},
   "outputs": [
    {
     "data": {
      "text/plain": [
       "Decimal('0.09090909090909090909090909091')"
      ]
     },
     "execution_count": 21,
     "metadata": {},
     "output_type": "execute_result"
    }
   ],
   "source": [
    "f = Decimal(1) / Decimal(11)\n",
    "f"
   ]
  },
  {
   "cell_type": "code",
   "execution_count": 22,
   "id": "4cedbdfd",
   "metadata": {},
   "outputs": [
    {
     "data": {
      "text/plain": [
       "Decimal('0.2727272727272727272727272727')"
      ]
     },
     "execution_count": 22,
     "metadata": {},
     "output_type": "execute_result"
    }
   ],
   "source": [
    "g = d + e + f\n",
    "g"
   ]
  },
  {
   "cell_type": "markdown",
   "id": "313216ba",
   "metadata": {},
   "source": [
    "# Booleans"
   ]
  },
  {
   "cell_type": "code",
   "execution_count": 23,
   "id": "5904ecb5",
   "metadata": {},
   "outputs": [
    {
     "data": {
      "text/plain": [
       "True"
      ]
     },
     "execution_count": 23,
     "metadata": {},
     "output_type": "execute_result"
    }
   ],
   "source": [
    "True and True"
   ]
  },
  {
   "cell_type": "code",
   "execution_count": 24,
   "id": "1f61ef96",
   "metadata": {},
   "outputs": [
    {
     "data": {
      "text/plain": [
       "False"
      ]
     },
     "execution_count": 24,
     "metadata": {},
     "output_type": "execute_result"
    }
   ],
   "source": [
    "True and False"
   ]
  },
  {
   "cell_type": "code",
   "execution_count": 25,
   "id": "ae767214",
   "metadata": {},
   "outputs": [
    {
     "data": {
      "text/plain": [
       "False"
      ]
     },
     "execution_count": 25,
     "metadata": {},
     "output_type": "execute_result"
    }
   ],
   "source": [
    "False and False"
   ]
  },
  {
   "cell_type": "code",
   "execution_count": 26,
   "id": "b75af355",
   "metadata": {},
   "outputs": [
    {
     "data": {
      "text/plain": [
       "True"
      ]
     },
     "execution_count": 26,
     "metadata": {},
     "output_type": "execute_result"
    }
   ],
   "source": [
    "True or False"
   ]
  },
  {
   "cell_type": "code",
   "execution_count": 27,
   "id": "b28d8f3b",
   "metadata": {},
   "outputs": [
    {
     "data": {
      "text/plain": [
       "False"
      ]
     },
     "execution_count": 27,
     "metadata": {},
     "output_type": "execute_result"
    }
   ],
   "source": [
    "not True"
   ]
  },
  {
   "cell_type": "code",
   "execution_count": 28,
   "id": "11c9a9bc",
   "metadata": {},
   "outputs": [
    {
     "data": {
      "text/plain": [
       "1"
      ]
     },
     "execution_count": 28,
     "metadata": {},
     "output_type": "execute_result"
    }
   ],
   "source": [
    "int(True)"
   ]
  },
  {
   "cell_type": "code",
   "execution_count": 29,
   "id": "65541a8f",
   "metadata": {},
   "outputs": [
    {
     "data": {
      "text/plain": [
       "0"
      ]
     },
     "execution_count": 29,
     "metadata": {},
     "output_type": "execute_result"
    }
   ],
   "source": [
    "int(False)"
   ]
  },
  {
   "cell_type": "code",
   "execution_count": 30,
   "id": "e5d6abfa",
   "metadata": {},
   "outputs": [
    {
     "data": {
      "text/plain": [
       "1.0"
      ]
     },
     "execution_count": 30,
     "metadata": {},
     "output_type": "execute_result"
    }
   ],
   "source": [
    "float(True)"
   ]
  },
  {
   "cell_type": "code",
   "execution_count": 31,
   "id": "78c0a63e",
   "metadata": {},
   "outputs": [
    {
     "data": {
      "text/plain": [
       "0.0"
      ]
     },
     "execution_count": 31,
     "metadata": {},
     "output_type": "execute_result"
    }
   ],
   "source": [
    "float(False)"
   ]
  },
  {
   "cell_type": "code",
   "execution_count": 32,
   "id": "84b20fee",
   "metadata": {},
   "outputs": [
    {
     "data": {
      "text/plain": [
       "False"
      ]
     },
     "execution_count": 32,
     "metadata": {},
     "output_type": "execute_result"
    }
   ],
   "source": [
    "bool(0)"
   ]
  },
  {
   "cell_type": "code",
   "execution_count": 33,
   "id": "bad17251",
   "metadata": {},
   "outputs": [
    {
     "data": {
      "text/plain": [
       "False"
      ]
     },
     "execution_count": 33,
     "metadata": {},
     "output_type": "execute_result"
    }
   ],
   "source": [
    "bool(0.0)"
   ]
  },
  {
   "cell_type": "code",
   "execution_count": 34,
   "id": "5b76d1c1",
   "metadata": {},
   "outputs": [
    {
     "data": {
      "text/plain": [
       "True"
      ]
     },
     "execution_count": 34,
     "metadata": {},
     "output_type": "execute_result"
    }
   ],
   "source": [
    "bool(1)"
   ]
  },
  {
   "cell_type": "code",
   "execution_count": 35,
   "id": "367e4b56",
   "metadata": {},
   "outputs": [
    {
     "data": {
      "text/plain": [
       "True"
      ]
     },
     "execution_count": 35,
     "metadata": {},
     "output_type": "execute_result"
    }
   ],
   "source": [
    "bool(10.5)"
   ]
  },
  {
   "cell_type": "code",
   "execution_count": 36,
   "id": "131073eb",
   "metadata": {},
   "outputs": [
    {
     "data": {
      "text/plain": [
       "True"
      ]
     },
     "execution_count": 36,
     "metadata": {},
     "output_type": "execute_result"
    }
   ],
   "source": [
    "bool(-2)"
   ]
  },
  {
   "cell_type": "markdown",
   "id": "afde2cf0",
   "metadata": {},
   "source": [
    "# Strings"
   ]
  },
  {
   "cell_type": "code",
   "execution_count": 37,
   "id": "e476454a",
   "metadata": {},
   "outputs": [],
   "source": [
    "t = 'this is a string object'"
   ]
  },
  {
   "cell_type": "code",
   "execution_count": 38,
   "id": "48145f72",
   "metadata": {},
   "outputs": [
    {
     "data": {
      "text/plain": [
       "'This is a string object'"
      ]
     },
     "execution_count": 38,
     "metadata": {},
     "output_type": "execute_result"
    }
   ],
   "source": [
    "t.capitalize()"
   ]
  },
  {
   "cell_type": "code",
   "execution_count": 39,
   "id": "31755c35",
   "metadata": {},
   "outputs": [
    {
     "data": {
      "text/plain": [
       "['this', 'is', 'a', 'string', 'object']"
      ]
     },
     "execution_count": 39,
     "metadata": {},
     "output_type": "execute_result"
    }
   ],
   "source": [
    "t.split()"
   ]
  },
  {
   "cell_type": "code",
   "execution_count": 40,
   "id": "6dc14d24",
   "metadata": {},
   "outputs": [
    {
     "data": {
      "text/plain": [
       "10"
      ]
     },
     "execution_count": 40,
     "metadata": {},
     "output_type": "execute_result"
    }
   ],
   "source": [
    "t.find('string')"
   ]
  },
  {
   "cell_type": "code",
   "execution_count": 41,
   "id": "cbbdfb56",
   "metadata": {},
   "outputs": [
    {
     "data": {
      "text/plain": [
       "-1"
      ]
     },
     "execution_count": 41,
     "metadata": {},
     "output_type": "execute_result"
    }
   ],
   "source": [
    "t.find('python')"
   ]
  },
  {
   "cell_type": "code",
   "execution_count": 42,
   "id": "61f6db97",
   "metadata": {},
   "outputs": [
    {
     "data": {
      "text/plain": [
       "'this|is|a|string|object'"
      ]
     },
     "execution_count": 42,
     "metadata": {},
     "output_type": "execute_result"
    }
   ],
   "source": [
    "t.replace(' ', '|')"
   ]
  },
  {
   "cell_type": "code",
   "execution_count": 43,
   "id": "6f882cd5",
   "metadata": {},
   "outputs": [
    {
     "data": {
      "text/plain": [
       "'www.python.org'"
      ]
     },
     "execution_count": 43,
     "metadata": {},
     "output_type": "execute_result"
    }
   ],
   "source": [
    "'http://www.python.org'.strip('htp:/')"
   ]
  },
  {
   "cell_type": "code",
   "execution_count": 44,
   "id": "4af07367",
   "metadata": {},
   "outputs": [
    {
     "data": {
      "text/plain": [
       "2"
      ]
     },
     "execution_count": 44,
     "metadata": {},
     "output_type": "execute_result"
    }
   ],
   "source": [
    "t.count('is')"
   ]
  },
  {
   "cell_type": "code",
   "execution_count": 45,
   "id": "37bbfa1d",
   "metadata": {},
   "outputs": [
    {
     "data": {
      "text/plain": [
       "'THIS IS A STRING OBJECT'"
      ]
     },
     "execution_count": 45,
     "metadata": {},
     "output_type": "execute_result"
    }
   ],
   "source": [
    "t.upper()"
   ]
  },
  {
   "cell_type": "code",
   "execution_count": 46,
   "id": "edb155ae",
   "metadata": {},
   "outputs": [],
   "source": [
    "## Printing and String Replacement"
   ]
  },
  {
   "cell_type": "code",
   "execution_count": 47,
   "id": "1ec1e06b",
   "metadata": {},
   "outputs": [
    {
     "name": "stdout",
     "output_type": "stream",
     "text": [
      "this is a string object\n"
     ]
    }
   ],
   "source": [
    "print(t)"
   ]
  },
  {
   "cell_type": "code",
   "execution_count": 48,
   "id": "06b757f0",
   "metadata": {},
   "outputs": [
    {
     "data": {
      "text/plain": [
       "'this is an integer 15'"
      ]
     },
     "execution_count": 48,
     "metadata": {},
     "output_type": "execute_result"
    }
   ],
   "source": [
    "'this is an integer {:d}'.format(15)"
   ]
  },
  {
   "cell_type": "code",
   "execution_count": 49,
   "id": "5cea845e",
   "metadata": {},
   "outputs": [
    {
     "data": {
      "text/plain": [
       "'this is an integer   15'"
      ]
     },
     "execution_count": 49,
     "metadata": {},
     "output_type": "execute_result"
    }
   ],
   "source": [
    "'this is an integer {:4d}'.format(15)"
   ]
  },
  {
   "cell_type": "code",
   "execution_count": 50,
   "id": "f6b8d56a",
   "metadata": {},
   "outputs": [
    {
     "data": {
      "text/plain": [
       "'this is an integer 0015'"
      ]
     },
     "execution_count": 50,
     "metadata": {},
     "output_type": "execute_result"
    }
   ],
   "source": [
    "'this is an integer {:04d}'.format(15)"
   ]
  },
  {
   "cell_type": "code",
   "execution_count": 51,
   "id": "6f1dcb8d",
   "metadata": {},
   "outputs": [
    {
     "data": {
      "text/plain": [
       "'this is a float 15.345600'"
      ]
     },
     "execution_count": 51,
     "metadata": {},
     "output_type": "execute_result"
    }
   ],
   "source": [
    "'this is a float {:f}'.format(15.3456)"
   ]
  },
  {
   "cell_type": "code",
   "execution_count": 52,
   "id": "213fcad0",
   "metadata": {},
   "outputs": [
    {
     "data": {
      "text/plain": [
       "'this is a float 15.35'"
      ]
     },
     "execution_count": 52,
     "metadata": {},
     "output_type": "execute_result"
    }
   ],
   "source": [
    "'this is a float {:.2f}'.format(15.3456)"
   ]
  },
  {
   "cell_type": "code",
   "execution_count": 53,
   "id": "3221c09d",
   "metadata": {},
   "outputs": [
    {
     "data": {
      "text/plain": [
       "'this is a float 15.345600'"
      ]
     },
     "execution_count": 53,
     "metadata": {},
     "output_type": "execute_result"
    }
   ],
   "source": [
    "'this is a float {:8f}'.format(15.3456)"
   ]
  },
  {
   "cell_type": "code",
   "execution_count": 54,
   "id": "e608bd8c",
   "metadata": {},
   "outputs": [
    {
     "data": {
      "text/plain": [
       "'this is a float    15.35'"
      ]
     },
     "execution_count": 54,
     "metadata": {},
     "output_type": "execute_result"
    }
   ],
   "source": [
    "'this is a float {:8.2f}'.format(15.3456)"
   ]
  },
  {
   "cell_type": "code",
   "execution_count": 55,
   "id": "78239da0",
   "metadata": {},
   "outputs": [
    {
     "data": {
      "text/plain": [
       "'this is a float 00015.35'"
      ]
     },
     "execution_count": 55,
     "metadata": {},
     "output_type": "execute_result"
    }
   ],
   "source": [
    "'this is a float {:08.2f}'.format(15.3456)"
   ]
  },
  {
   "cell_type": "code",
   "execution_count": 56,
   "id": "f1bfbea8",
   "metadata": {},
   "outputs": [
    {
     "data": {
      "text/plain": [
       "'this is a string python    '"
      ]
     },
     "execution_count": 56,
     "metadata": {},
     "output_type": "execute_result"
    }
   ],
   "source": [
    "'this is a string {:10s}'.format('python')"
   ]
  },
  {
   "cell_type": "code",
   "execution_count": 57,
   "id": "6b7508b6",
   "metadata": {},
   "outputs": [
    {
     "name": "stdout",
     "output_type": "stream",
     "text": [
      "the number is 0\n",
      "the number is 1\n",
      "the number is 2\n",
      "the number is 3\n"
     ]
    }
   ],
   "source": [
    "i = 0\n",
    "while i < 4:\n",
    "    print('the number is {:d}'.format(i))\n",
    "    i += 1"
   ]
  },
  {
   "cell_type": "markdown",
   "id": "fbd4a56a",
   "metadata": {},
   "source": [
    "## Regular Expression"
   ]
  },
  {
   "cell_type": "code",
   "execution_count": 60,
   "id": "bde0dae0",
   "metadata": {},
   "outputs": [],
   "source": [
    "import re"
   ]
  },
  {
   "cell_type": "code",
   "execution_count": 61,
   "id": "d9fef5e9",
   "metadata": {},
   "outputs": [],
   "source": [
    "series = \"\"\"\n",
    "'01/18/2014 13:00:00', 100, '1st';\n",
    "'01/18/2014 13:30:00', 110, '2nd';\n",
    "'01/18/2014 14:00:00', 120, '3rd'\n",
    "\"\"\""
   ]
  },
  {
   "cell_type": "code",
   "execution_count": 62,
   "id": "3fc199cf",
   "metadata": {},
   "outputs": [],
   "source": [
    "dt = re.compile(\"'[0-9/:\\s]+'\") # datetime"
   ]
  },
  {
   "cell_type": "code",
   "execution_count": 63,
   "id": "d8331d54",
   "metadata": {},
   "outputs": [],
   "source": [
    "result = dt.findall(series)"
   ]
  },
  {
   "cell_type": "code",
   "execution_count": 66,
   "id": "a9c239db",
   "metadata": {},
   "outputs": [
    {
     "data": {
      "text/plain": [
       "datetime.datetime(2014, 1, 18, 13, 0)"
      ]
     },
     "execution_count": 66,
     "metadata": {},
     "output_type": "execute_result"
    }
   ],
   "source": [
    "from datetime import datetime\n",
    "pydt = datetime.strptime(result[0].replace(\"'\", \"\"), '%m/%d/%Y %H:%M:%S')\n",
    "pydt"
   ]
  },
  {
   "cell_type": "code",
   "execution_count": 67,
   "id": "56e46489",
   "metadata": {},
   "outputs": [
    {
     "name": "stdout",
     "output_type": "stream",
     "text": [
      "2014-01-18 13:00:00\n"
     ]
    }
   ],
   "source": [
    "print(pydt)"
   ]
  },
  {
   "cell_type": "code",
   "execution_count": 68,
   "id": "5b9459db",
   "metadata": {},
   "outputs": [
    {
     "name": "stdout",
     "output_type": "stream",
     "text": [
      "<class 'datetime.datetime'>\n"
     ]
    }
   ],
   "source": [
    "print(type(pydt))"
   ]
  },
  {
   "cell_type": "code",
   "execution_count": null,
   "id": "c625d6c2",
   "metadata": {},
   "outputs": [],
   "source": []
  }
 ],
 "metadata": {
  "kernelspec": {
   "display_name": "Python 3",
   "language": "python",
   "name": "python3"
  },
  "language_info": {
   "codemirror_mode": {
    "name": "ipython",
    "version": 3
   },
   "file_extension": ".py",
   "mimetype": "text/x-python",
   "name": "python",
   "nbconvert_exporter": "python",
   "pygments_lexer": "ipython3",
   "version": "3.9.5"
  }
 },
 "nbformat": 4,
 "nbformat_minor": 5
}
